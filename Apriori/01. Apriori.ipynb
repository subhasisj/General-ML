{
 "cells": [
  {
   "cell_type": "code",
   "execution_count": 1,
   "metadata": {},
   "outputs": [],
   "source": [
    "# store the item sets as tuples of strings in a list\n",
    "transactions = [\n",
    "    (\"beer\", \"wine\", \"cheese\"),\n",
    "    (\"beer\", \"potato chips\"),\n",
    "    (\"eggs\", \"flour\", \"butter\", \"cheese\"),\n",
    "    (\"eggs\", \"flour\", \"butter\", \"beer\", \"potato chips\"),\n",
    "    (\"wine\", \"cheese\"),\n",
    "    (\"potato chips\"),\n",
    "    (\"eggs\", \"flour\", \"butter\", \"wine\", \"cheese\"),\n",
    "    (\"eggs\", \"flour\", \"butter\", \"beer\", \"potato chips\"),\n",
    "    (\"wine\", \"beer\"),\n",
    "    (\"beer\", \"potato chips\"),\n",
    "    (\"butter\", \"eggs\"),\n",
    "    (\"beer\", \"potato chips\"),\n",
    "    (\"flour\", \"eggs\"),\n",
    "    (\"beer\", \"potato chips\"),\n",
    "    (\"eggs\", \"flour\", \"butter\", \"wine\", \"cheese\"),\n",
    "    (\"beer\", \"wine\", \"potato chips\", \"cheese\"),\n",
    "    (\"wine\", \"cheese\"),\n",
    "    (\"beer\", \"potato chips\"),\n",
    "    (\"wine\", \"cheese\"),\n",
    "    (\"beer\", \"potato chips\"),\n",
    "]"
   ]
  },
  {
   "cell_type": "markdown",
   "metadata": {},
   "source": [
    " __Support(A)__  is just the plain basic probability of an event to occur. It is the number of transactions which includes A divided by the total number of transactions.\n",
    "\n",
    " __Confidence__ This can be used to describe the probability of an item being purchased when another item <br>\n",
    "                is already in the basket. It is measured by dividing the proportion of transactions with <br> item X and Y, over the proportion of transactions with Y.\n",
    "\n",
    "Example: `Confidence(Cookie -> Cake)` = `P(Cake and Cookie) / P(Cookie)`\n",
    "\n",
    "__Lift__ measures how likely an item is purchased when another item is purchased, while controlling <br> for how popular both items are\n",
    "It can be calculated by dividing the probability of both of the items occurring together by the product <br> of the probabilities of the both individuals items occurring as if there was no association between them."
   ]
  },
  {
   "cell_type": "code",
   "execution_count": 12,
   "metadata": {},
   "outputs": [
    {
     "name": "stdout",
     "output_type": "stream",
     "text": [
      "Minimum support: 0.35\n",
      "Itemsets: {1: {('beer',): 11, ('wine',): 8, ('cheese',): 8, ('potato chips',): 9, ('eggs',): 7}, 2: {('beer', 'potato chips'): 9, ('cheese', 'wine'): 7}}\n",
      "Rules: [{potato chips} -> {beer}, {beer} -> {potato chips}, {wine} -> {cheese}, {cheese} -> {wine}]\n"
     ]
    }
   ],
   "source": [
    "from efficient_apriori import apriori\n",
    "\n",
    "min_support = 7 / len(transactions)\n",
    "print(f\"Minimum support: {min_support}\")\n",
    "\n",
    "min_confidence = 0  # get all rules\n",
    "itemsets, rules = apriori(\n",
    "    transactions, min_support=min_support, min_confidence=min_confidence\n",
    ")\n",
    "print(\n",
    "    f\"Itemsets: {itemsets}\"\n",
    ")  # key 1 : Individual items and their number of occurrences & key 2 : The items sets are the products which scored atleast the minimum support of min_support.\n",
    "print(f\"Rules: {rules}\")\n"
   ]
  },
  {
   "cell_type": "code",
   "execution_count": 15,
   "metadata": {},
   "outputs": [
    {
     "name": "stdout",
     "output_type": "stream",
     "text": [
      "Rule: {potato chips} -> {beer} (conf: 1.000, supp: 0.450, lift: 1.818, conv: 450000000.000)\n",
      "Confidence: 1.0\n",
      "Support: 0.45\n",
      "--------------------\n",
      "Rule: {beer} -> {potato chips} (conf: 0.818, supp: 0.450, lift: 1.818, conv: 3.025)\n",
      "Confidence: 0.8181818181818182\n",
      "Support: 0.45\n",
      "--------------------\n",
      "Rule: {wine} -> {cheese} (conf: 0.875, supp: 0.350, lift: 2.188, conv: 4.800)\n",
      "Confidence: 0.875\n",
      "Support: 0.35\n",
      "--------------------\n",
      "Rule: {cheese} -> {wine} (conf: 0.875, supp: 0.350, lift: 2.188, conv: 4.800)\n",
      "Confidence: 0.875\n",
      "Support: 0.35\n",
      "--------------------\n"
     ]
    }
   ],
   "source": [
    "# Check the rules\n",
    "for rule in rules:\n",
    "    print(f\"Rule: {rule}\")\n",
    "    print(f\"Confidence: {rule.confidence}\")\n",
    "    print(f\"Support: {rule.support}\")\n",
    "    print(\"-\" * 20)"
   ]
  },
  {
   "cell_type": "code",
   "execution_count": null,
   "metadata": {},
   "outputs": [],
   "source": []
  },
  {
   "cell_type": "markdown",
   "metadata": {},
   "source": [
    "#### "
   ]
  }
 ],
 "metadata": {
  "kernelspec": {
   "display_name": "Python 3.8.12 ('all-purpose-gpu')",
   "language": "python",
   "name": "python3"
  },
  "language_info": {
   "codemirror_mode": {
    "name": "ipython",
    "version": 3
   },
   "file_extension": ".py",
   "mimetype": "text/x-python",
   "name": "python",
   "nbconvert_exporter": "python",
   "pygments_lexer": "ipython3",
   "version": "3.8.12"
  },
  "orig_nbformat": 4,
  "vscode": {
   "interpreter": {
    "hash": "988aea983bc49b4de6555a9151e99301026502c3eb4adf0dc68b340a087613cc"
   }
  }
 },
 "nbformat": 4,
 "nbformat_minor": 2
}
